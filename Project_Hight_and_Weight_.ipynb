{
  "cells": [
    {
      "cell_type": "markdown",
      "metadata": {
        "id": "view-in-github",
        "colab_type": "text"
      },
      "source": [
        "<a href=\"https://colab.research.google.com/github/Mangeshdeore/Hight-and-Weight/blob/main/Project_Hight_and_Weight_.ipynb\" target=\"_parent\"><img src=\"https://colab.research.google.com/assets/colab-badge.svg\" alt=\"Open In Colab\"/></a>"
      ]
    },
    {
      "cell_type": "markdown",
      "id": "606ec3b9",
      "metadata": {
        "id": "606ec3b9"
      },
      "source": [
        "# Height-Weight: Regression & Classification"
      ]
    },
    {
      "cell_type": "code",
      "execution_count": null,
      "id": "ecf72ebb",
      "metadata": {
        "id": "ecf72ebb"
      },
      "outputs": [],
      "source": [
        "import numpy as np\n",
        "import pandas as pd\n",
        "import matplotlib.pyplot as plt\n",
        "import seaborn as sns"
      ]
    },
    {
      "cell_type": "code",
      "execution_count": null,
      "id": "16b1f8a5",
      "metadata": {
        "scrolled": true,
        "id": "16b1f8a5"
      },
      "outputs": [],
      "source": [
        "df=pd.read_csv(\"E:\\\\Data Science Projects\\\\Hight-Weight dataset\\\\archive\\\\weight-height.csv\")"
      ]
    },
    {
      "cell_type": "markdown",
      "id": "ddeb1780",
      "metadata": {
        "id": "ddeb1780"
      },
      "source": [
        "# Load The Data"
      ]
    },
    {
      "cell_type": "code",
      "execution_count": null,
      "id": "368f9782",
      "metadata": {
        "scrolled": false,
        "id": "368f9782",
        "outputId": "f075e1fa-c2f4-46e4-df09-500622d41d58"
      },
      "outputs": [
        {
          "data": {
            "text/html": [
              "<div>\n",
              "<style scoped>\n",
              "    .dataframe tbody tr th:only-of-type {\n",
              "        vertical-align: middle;\n",
              "    }\n",
              "\n",
              "    .dataframe tbody tr th {\n",
              "        vertical-align: top;\n",
              "    }\n",
              "\n",
              "    .dataframe thead th {\n",
              "        text-align: right;\n",
              "    }\n",
              "</style>\n",
              "<table border=\"1\" class=\"dataframe\">\n",
              "  <thead>\n",
              "    <tr style=\"text-align: right;\">\n",
              "      <th></th>\n",
              "      <th>Gender</th>\n",
              "      <th>Height</th>\n",
              "      <th>Weight</th>\n",
              "    </tr>\n",
              "  </thead>\n",
              "  <tbody>\n",
              "    <tr>\n",
              "      <th>0</th>\n",
              "      <td>Male</td>\n",
              "      <td>73.847017</td>\n",
              "      <td>241.893563</td>\n",
              "    </tr>\n",
              "    <tr>\n",
              "      <th>1</th>\n",
              "      <td>Male</td>\n",
              "      <td>68.781904</td>\n",
              "      <td>162.310473</td>\n",
              "    </tr>\n",
              "    <tr>\n",
              "      <th>2</th>\n",
              "      <td>Male</td>\n",
              "      <td>74.110105</td>\n",
              "      <td>212.740856</td>\n",
              "    </tr>\n",
              "    <tr>\n",
              "      <th>3</th>\n",
              "      <td>Male</td>\n",
              "      <td>71.730978</td>\n",
              "      <td>220.042470</td>\n",
              "    </tr>\n",
              "    <tr>\n",
              "      <th>4</th>\n",
              "      <td>Male</td>\n",
              "      <td>69.881796</td>\n",
              "      <td>206.349801</td>\n",
              "    </tr>\n",
              "  </tbody>\n",
              "</table>\n",
              "</div>"
            ],
            "text/plain": [
              "  Gender     Height      Weight\n",
              "0   Male  73.847017  241.893563\n",
              "1   Male  68.781904  162.310473\n",
              "2   Male  74.110105  212.740856\n",
              "3   Male  71.730978  220.042470\n",
              "4   Male  69.881796  206.349801"
            ]
          },
          "execution_count": 10,
          "metadata": {},
          "output_type": "execute_result"
        }
      ],
      "source": [
        "# Lets see what we got in df. head prints by default 5 rows.\n",
        "df.head()"
      ]
    },
    {
      "cell_type": "markdown",
      "id": "1d5440fd",
      "metadata": {
        "id": "1d5440fd"
      },
      "source": [
        "So finally we have our data in our hand. Now lets do some visualization to understand it even more finely. As we know there are only two columns in our dataset so we will se historgram & kde plot(univariate distribution) and scatter plot(bivariate distribution), What is univariate & bivariate distribution? As name suggest univariate in plotting only a single feature e.g. histogram and kde plot (kernel distribution estimation). Bivariate means plotting 2 two variables e.g. scatter plot"
      ]
    },
    {
      "cell_type": "code",
      "execution_count": null,
      "id": "9dc5d3aa",
      "metadata": {
        "id": "9dc5d3aa",
        "outputId": "88dbd88c-4393-4bfd-f997-ee48705cecd8"
      },
      "outputs": [
        {
          "data": {
            "text/plain": [
              "Gender    0\n",
              "Height    0\n",
              "Weight    0\n",
              "dtype: int64"
            ]
          },
          "execution_count": 11,
          "metadata": {},
          "output_type": "execute_result"
        }
      ],
      "source": [
        "df.isnull().sum()"
      ]
    },
    {
      "cell_type": "markdown",
      "id": "9ed53b4c",
      "metadata": {
        "id": "9ed53b4c"
      },
      "source": [
        "We are plotting histogram for height. We can see there are few params. Lets understand them.\n",
        "\n",
        "kind: this mean what kind of plot you want e,g, hist, box and other kind. So in our case its hist for histogram.\n",
        "title: The title of the plot. You can consider it as a name for your plot \\n\n",
        "color: you can choose any color."
      ]
    },
    {
      "cell_type": "markdown",
      "id": "cd85dc4b",
      "metadata": {
        "id": "cd85dc4b"
      },
      "source": [
        "# Visualization"
      ]
    },
    {
      "cell_type": "code",
      "execution_count": null,
      "id": "ad02e5fc",
      "metadata": {
        "id": "ad02e5fc",
        "outputId": "36c9ee64-12d4-4b7e-c88c-f91b13374871"
      },
      "outputs": [
        {
          "data": {
            "image/png": "[encoded data removed]",
            "text/plain": [
              "<Figure size 432x288 with 1 Axes>"
            ]
          },
          "metadata": {
            "needs_background": "light"
          },
          "output_type": "display_data"
        }
      ],
      "source": [
        "# title again means you plot name.\n",
        "# xlabel means label on x-axis and ylabel for y-axis\n",
        "# bins will be explained in the next plot\n",
        "plt.hist(x=df.Height, color='c')\n",
        "plt.title(\"Univariate: Height Histogram\")\n",
        "plt.xlabel(\"Height\")\n",
        "plt.ylabel(\"Total Counts\")\n",
        "plt.plot();"
      ]
    },
    {
      "cell_type": "code",
      "execution_count": null,
      "id": "f8f831d1",
      "metadata": {
        "id": "f8f831d1",
        "outputId": "f625cd16-28b8-43b0-ba5e-7467efbf6732"
      },
      "outputs": [
        {
          "data": {
            "image/png": "[encoded data removed]",
            "text/plain": [
              "<Figure size 432x288 with 1 Axes>"
            ]
          },
          "metadata": {
            "needs_background": "light"
          },
          "output_type": "display_data"
        }
      ],
      "source": [
        "plt.hist(x=df.Weight, color='c')\n",
        "plt.title(\"Univariate: Weight Histogram\")\n",
        "plt.xlabel(\"Weight\")\n",
        "plt.ylabel(\"Total Counts\")\n",
        "plt.plot();"
      ]
    },
    {
      "cell_type": "code",
      "execution_count": null,
      "id": "413d720d",
      "metadata": {
        "id": "413d720d",
        "outputId": "abbb9987-5f72-40da-94b5-17d31d4e7a00"
      },
      "outputs": [
        {
          "data": {
            "image/png": "[encoded data removed]",
            "text/plain": [
              "<Figure size 432x288 with 1 Axes>"
            ]
          },
          "metadata": {
            "needs_background": "light"
          },
          "output_type": "display_data"
        }
      ],
      "source": [
        "# KDE distribution for Height\n",
        "df.Height.plot(kind=\"kde\", title='Univariate: Height KDE', color='c');\n"
      ]
    },
    {
      "cell_type": "code",
      "execution_count": null,
      "id": "9bc9feba",
      "metadata": {
        "id": "9bc9feba",
        "outputId": "64377bd1-ca9f-4195-af00-40594f5c5bc5"
      },
      "outputs": [
        {
          "data": {
            "image/png": "[encoded data removed]",
            "text/plain": [
              "<Figure size 432x288 with 1 Axes>"
            ]
          },
          "metadata": {
            "needs_background": "light"
          },
          "output_type": "display_data"
        }
      ],
      "source": [
        "# KDE distribution for Weight\n",
        "df.Weight.plot(kind=\"kde\", title='Univariate: Weight KDE', color='c');\n"
      ]
    },
    {
      "cell_type": "markdown",
      "id": "2e5d4e17",
      "metadata": {
        "id": "2e5d4e17"
      },
      "source": [
        "KDE is more smoother and it gives you a bell shape curve, so we cant go for outliers."
      ]
    },
    {
      "cell_type": "markdown",
      "id": "5b4f9328",
      "metadata": {
        "id": "5b4f9328"
      },
      "source": [
        "Bivariate: Lets plot bivariate using scatter plot"
      ]
    },
    {
      "cell_type": "code",
      "execution_count": null,
      "id": "099b4dd5",
      "metadata": {
        "id": "099b4dd5",
        "outputId": "b58868d1-66bd-4f0a-e1a9-3f9b98a8a338"
      },
      "outputs": [
        {
          "data": {
            "image/png": "[encoded data removed]",
            "text/plain": [
              "<Figure size 432x288 with 1 Axes>"
            ]
          },
          "metadata": {
            "needs_background": "light"
          },
          "output_type": "display_data"
        }
      ],
      "source": [
        "# So here we are plotting a  bivariate plot type called scatter plot between height and weight.\n",
        "# x = data to show in x-axis(numeric)\n",
        "# y = data to show in y-axis(numeric)\n",
        "# color: color of the dots\n",
        "# title: name for your plot\n",
        "df.plot.scatter(x=\"Height\", y=\"Weight\", color='c', title='Height Vs Weight');"
      ]
    },
    {
      "cell_type": "markdown",
      "id": "61d58ff8",
      "metadata": {
        "id": "61d58ff8"
      },
      "source": [
        "# Regression- Predict weight using hight"
      ]
    },
    {
      "cell_type": "code",
      "execution_count": null,
      "id": "205fcabd",
      "metadata": {
        "id": "205fcabd",
        "outputId": "3f6ca28d-6278-4bdc-a359-bc2ec697b300"
      },
      "outputs": [
        {
          "data": {
            "text/html": [
              "<div>\n",
              "<style scoped>\n",
              "    .dataframe tbody tr th:only-of-type {\n",
              "        vertical-align: middle;\n",
              "    }\n",
              "\n",
              "    .dataframe tbody tr th {\n",
              "        vertical-align: top;\n",
              "    }\n",
              "\n",
              "    .dataframe thead th {\n",
              "        text-align: right;\n",
              "    }\n",
              "</style>\n",
              "<table border=\"1\" class=\"dataframe\">\n",
              "  <thead>\n",
              "    <tr style=\"text-align: right;\">\n",
              "      <th></th>\n",
              "      <th>Gender</th>\n",
              "      <th>Height</th>\n",
              "      <th>Weight</th>\n",
              "    </tr>\n",
              "  </thead>\n",
              "  <tbody>\n",
              "    <tr>\n",
              "      <th>0</th>\n",
              "      <td>Male</td>\n",
              "      <td>73.847017</td>\n",
              "      <td>241.893563</td>\n",
              "    </tr>\n",
              "    <tr>\n",
              "      <th>1</th>\n",
              "      <td>Male</td>\n",
              "      <td>68.781904</td>\n",
              "      <td>162.310473</td>\n",
              "    </tr>\n",
              "    <tr>\n",
              "      <th>2</th>\n",
              "      <td>Male</td>\n",
              "      <td>74.110105</td>\n",
              "      <td>212.740856</td>\n",
              "    </tr>\n",
              "    <tr>\n",
              "      <th>3</th>\n",
              "      <td>Male</td>\n",
              "      <td>71.730978</td>\n",
              "      <td>220.042470</td>\n",
              "    </tr>\n",
              "    <tr>\n",
              "      <th>4</th>\n",
              "      <td>Male</td>\n",
              "      <td>69.881796</td>\n",
              "      <td>206.349801</td>\n",
              "    </tr>\n",
              "  </tbody>\n",
              "</table>\n",
              "</div>"
            ],
            "text/plain": [
              "  Gender     Height      Weight\n",
              "0   Male  73.847017  241.893563\n",
              "1   Male  68.781904  162.310473\n",
              "2   Male  74.110105  212.740856\n",
              "3   Male  71.730978  220.042470\n",
              "4   Male  69.881796  206.349801"
            ]
          },
          "execution_count": 16,
          "metadata": {},
          "output_type": "execute_result"
        }
      ],
      "source": [
        "df.head()"
      ]
    },
    {
      "cell_type": "code",
      "execution_count": null,
      "id": "0ca64350",
      "metadata": {
        "id": "0ca64350",
        "outputId": "8bfc1218-367f-4f3d-8cce-051e55c11cd9"
      },
      "outputs": [
        {
          "data": {
            "text/html": [
              "<div>\n",
              "<style scoped>\n",
              "    .dataframe tbody tr th:only-of-type {\n",
              "        vertical-align: middle;\n",
              "    }\n",
              "\n",
              "    .dataframe tbody tr th {\n",
              "        vertical-align: top;\n",
              "    }\n",
              "\n",
              "    .dataframe thead th {\n",
              "        text-align: right;\n",
              "    }\n",
              "</style>\n",
              "<table border=\"1\" class=\"dataframe\">\n",
              "  <thead>\n",
              "    <tr style=\"text-align: right;\">\n",
              "      <th></th>\n",
              "      <th>Gender</th>\n",
              "      <th>Height</th>\n",
              "      <th>Weight</th>\n",
              "    </tr>\n",
              "  </thead>\n",
              "  <tbody>\n",
              "    <tr>\n",
              "      <th>9995</th>\n",
              "      <td>Female</td>\n",
              "      <td>66.172652</td>\n",
              "      <td>136.777454</td>\n",
              "    </tr>\n",
              "    <tr>\n",
              "      <th>9996</th>\n",
              "      <td>Female</td>\n",
              "      <td>67.067155</td>\n",
              "      <td>170.867906</td>\n",
              "    </tr>\n",
              "    <tr>\n",
              "      <th>9997</th>\n",
              "      <td>Female</td>\n",
              "      <td>63.867992</td>\n",
              "      <td>128.475319</td>\n",
              "    </tr>\n",
              "    <tr>\n",
              "      <th>9998</th>\n",
              "      <td>Female</td>\n",
              "      <td>69.034243</td>\n",
              "      <td>163.852461</td>\n",
              "    </tr>\n",
              "    <tr>\n",
              "      <th>9999</th>\n",
              "      <td>Female</td>\n",
              "      <td>61.944246</td>\n",
              "      <td>113.649103</td>\n",
              "    </tr>\n",
              "  </tbody>\n",
              "</table>\n",
              "</div>"
            ],
            "text/plain": [
              "      Gender     Height      Weight\n",
              "9995  Female  66.172652  136.777454\n",
              "9996  Female  67.067155  170.867906\n",
              "9997  Female  63.867992  128.475319\n",
              "9998  Female  69.034243  163.852461\n",
              "9999  Female  61.944246  113.649103"
            ]
          },
          "execution_count": 17,
          "metadata": {},
          "output_type": "execute_result"
        }
      ],
      "source": [
        "df.tail()"
      ]
    },
    {
      "cell_type": "code",
      "execution_count": null,
      "id": "5e5f885a",
      "metadata": {
        "id": "5e5f885a",
        "outputId": "4bf806a7-a64c-45e1-dda7-b82bb40e49c5"
      },
      "outputs": [
        {
          "data": {
            "text/html": [
              "<div>\n",
              "<style scoped>\n",
              "    .dataframe tbody tr th:only-of-type {\n",
              "        vertical-align: middle;\n",
              "    }\n",
              "\n",
              "    .dataframe tbody tr th {\n",
              "        vertical-align: top;\n",
              "    }\n",
              "\n",
              "    .dataframe thead th {\n",
              "        text-align: right;\n",
              "    }\n",
              "</style>\n",
              "<table border=\"1\" class=\"dataframe\">\n",
              "  <thead>\n",
              "    <tr style=\"text-align: right;\">\n",
              "      <th></th>\n",
              "      <th>Height</th>\n",
              "      <th>Weight</th>\n",
              "    </tr>\n",
              "  </thead>\n",
              "  <tbody>\n",
              "    <tr>\n",
              "      <th>count</th>\n",
              "      <td>10000.000000</td>\n",
              "      <td>10000.000000</td>\n",
              "    </tr>\n",
              "    <tr>\n",
              "      <th>mean</th>\n",
              "      <td>66.367560</td>\n",
              "      <td>161.440357</td>\n",
              "    </tr>\n",
              "    <tr>\n",
              "      <th>std</th>\n",
              "      <td>3.847528</td>\n",
              "      <td>32.108439</td>\n",
              "    </tr>\n",
              "    <tr>\n",
              "      <th>min</th>\n",
              "      <td>54.263133</td>\n",
              "      <td>64.700127</td>\n",
              "    </tr>\n",
              "    <tr>\n",
              "      <th>25%</th>\n",
              "      <td>63.505620</td>\n",
              "      <td>135.818051</td>\n",
              "    </tr>\n",
              "    <tr>\n",
              "      <th>50%</th>\n",
              "      <td>66.318070</td>\n",
              "      <td>161.212928</td>\n",
              "    </tr>\n",
              "    <tr>\n",
              "      <th>75%</th>\n",
              "      <td>69.174262</td>\n",
              "      <td>187.169525</td>\n",
              "    </tr>\n",
              "    <tr>\n",
              "      <th>max</th>\n",
              "      <td>78.998742</td>\n",
              "      <td>269.989699</td>\n",
              "    </tr>\n",
              "  </tbody>\n",
              "</table>\n",
              "</div>"
            ],
            "text/plain": [
              "             Height        Weight\n",
              "count  10000.000000  10000.000000\n",
              "mean      66.367560    161.440357\n",
              "std        3.847528     32.108439\n",
              "min       54.263133     64.700127\n",
              "25%       63.505620    135.818051\n",
              "50%       66.318070    161.212928\n",
              "75%       69.174262    187.169525\n",
              "max       78.998742    269.989699"
            ]
          },
          "execution_count": 18,
          "metadata": {},
          "output_type": "execute_result"
        }
      ],
      "source": [
        "df.describe()"
      ]
    },
    {
      "cell_type": "code",
      "execution_count": null,
      "id": "bbd3b8da",
      "metadata": {
        "id": "bbd3b8da",
        "outputId": "4b067bde-f699-4a83-e2d8-f4c67b08c7a2"
      },
      "outputs": [
        {
          "name": "stdout",
          "output_type": "stream",
          "text": [
            "<class 'pandas.core.frame.DataFrame'>\n",
            "RangeIndex: 10000 entries, 0 to 9999\n",
            "Data columns (total 3 columns):\n",
            " #   Column  Non-Null Count  Dtype  \n",
            "---  ------  --------------  -----  \n",
            " 0   Gender  10000 non-null  object \n",
            " 1   Height  10000 non-null  float64\n",
            " 2   Weight  10000 non-null  float64\n",
            "dtypes: float64(2), object(1)\n",
            "memory usage: 234.5+ KB\n"
          ]
        }
      ],
      "source": [
        "df.info()"
      ]
    },
    {
      "cell_type": "code",
      "execution_count": null,
      "id": "34dcec70",
      "metadata": {
        "id": "34dcec70"
      },
      "outputs": [],
      "source": [
        "X = df.iloc[:, 1:2].values\n",
        "y = df.iloc[:, 2:3].values"
      ]
    },
    {
      "cell_type": "code",
      "execution_count": null,
      "id": "c3c02c9b",
      "metadata": {
        "id": "c3c02c9b"
      },
      "outputs": [],
      "source": [
        "from sklearn.model_selection import train_test_split\n",
        "X_train, X_test, y_train, y_test = train_test_split(X, y, test_size=0.3, random_state=31)\n"
      ]
    },
    {
      "cell_type": "markdown",
      "id": "b5ee2bca",
      "metadata": {
        "id": "b5ee2bca"
      },
      "source": [
        " Linear-Regression Model"
      ]
    },
    {
      "cell_type": "code",
      "execution_count": null,
      "id": "a110f37e",
      "metadata": {
        "id": "a110f37e"
      },
      "outputs": [],
      "source": [
        " from sklearn.linear_model import LinearRegression"
      ]
    },
    {
      "cell_type": "code",
      "execution_count": null,
      "id": "b558d48d",
      "metadata": {
        "id": "b558d48d"
      },
      "outputs": [],
      "source": [
        "regressor = LinearRegression()\n",
        "model_fit = regressor.fit(X_train, y_train)"
      ]
    },
    {
      "cell_type": "code",
      "execution_count": null,
      "id": "d2febcea",
      "metadata": {
        "id": "d2febcea"
      },
      "outputs": [],
      "source": [
        "y_predict = regressor.predict(X_test)"
      ]
    },
    {
      "cell_type": "code",
      "execution_count": null,
      "id": "eb2b8028",
      "metadata": {
        "id": "eb2b8028",
        "outputId": "f941005b-6cfc-4515-ea03-370be092986b"
      },
      "outputs": [
        {
          "data": {
            "text/plain": [
              "array([[163.3254169 ],\n",
              "       [172.4561169 ],\n",
              "       [141.93545547],\n",
              "       ...,\n",
              "       [183.17868191],\n",
              "       [151.35818679],\n",
              "       [140.9103195 ]])"
            ]
          },
          "execution_count": 24,
          "metadata": {},
          "output_type": "execute_result"
        }
      ],
      "source": [
        "y_predict"
      ]
    },
    {
      "cell_type": "code",
      "execution_count": null,
      "id": "980d7875",
      "metadata": {
        "id": "980d7875",
        "outputId": "95ef8efc-068d-480f-b740-e7d30ea66c0d"
      },
      "outputs": [
        {
          "data": {
            "image/png": "[encoded data removed]",
            "text/plain": [
              "<Figure size 432x288 with 1 Axes>"
            ]
          },
          "metadata": {
            "needs_background": "light"
          },
          "output_type": "display_data"
        }
      ],
      "source": [
        "plt.scatter(X_test, y_test)\n",
        "plt.plot( X_train, regressor.predict(X_train), color='r')\n",
        "plt.xlabel(\"Height\")\n",
        "plt.ylabel(\"Weight\")\n",
        "plt.title(\"Heigth Vs Weight Prediction\")\n",
        "plt.show()"
      ]
    },
    {
      "cell_type": "markdown",
      "id": "34e575be",
      "metadata": {
        "id": "34e575be"
      },
      "source": [
        "# Accuracy"
      ]
    },
    {
      "cell_type": "code",
      "execution_count": null,
      "id": "607a7ac1",
      "metadata": {
        "id": "607a7ac1"
      },
      "outputs": [],
      "source": [
        "#To find accuracy of model we have many metries like \n",
        "#R-square, mean-squared-error(MSE), root-mean-squared-error(RMSE)"
      ]
    },
    {
      "cell_type": "code",
      "execution_count": null,
      "id": "3aa83a8f",
      "metadata": {
        "id": "3aa83a8f"
      },
      "outputs": [],
      "source": [
        "from sklearn.metrics import r2_score"
      ]
    },
    {
      "cell_type": "code",
      "execution_count": null,
      "id": "61bf85fb",
      "metadata": {
        "id": "61bf85fb",
        "outputId": "a71f6907-5520-4d61-ec2f-200b3a5b0e50"
      },
      "outputs": [
        {
          "name": "stdout",
          "output_type": "stream",
          "text": [
            "Model Accuracy is: 0.8518184505555159\n"
          ]
        }
      ],
      "source": [
        "print(f\"Model Accuracy is: {regressor.score(X_test, y_test)}\")"
      ]
    },
    {
      "cell_type": "code",
      "execution_count": null,
      "id": "0cb811d9",
      "metadata": {
        "id": "0cb811d9"
      },
      "outputs": [],
      "source": [
        "# Cool we got an accuracy of 85%, which is not bad."
      ]
    },
    {
      "cell_type": "code",
      "execution_count": null,
      "id": "34f9618f",
      "metadata": {
        "id": "34f9618f",
        "outputId": "3b348702-c823-4839-c5ba-d1323f554c07"
      },
      "outputs": [
        {
          "data": {
            "text/plain": [
              "0.8518184505555159"
            ]
          },
          "execution_count": 28,
          "metadata": {},
          "output_type": "execute_result"
        }
      ],
      "source": [
        "r2_score(y_test, y_predict)"
      ]
    },
    {
      "cell_type": "code",
      "execution_count": null,
      "id": "49b10dd6",
      "metadata": {
        "id": "49b10dd6"
      },
      "outputs": [],
      "source": [
        "# R-squared Close to 1 is good.\n",
        "# SO finally we just created our simple linear regression model."
      ]
    },
    {
      "cell_type": "markdown",
      "id": "90d1ebfd",
      "metadata": {
        "id": "90d1ebfd"
      },
      "source": [
        "# Classification - Predict Gender By Height & Weight"
      ]
    },
    {
      "cell_type": "code",
      "execution_count": null,
      "id": "442e91b4",
      "metadata": {
        "id": "442e91b4"
      },
      "outputs": [],
      "source": [
        "# Previously we saw how to predict Weigth by Height, which is simple because:\n",
        "# 1. Both were numeric values\n",
        "# 2. There was only one independent variable or feature(Height).\n",
        "# 3. Previously we were finding continues value like Weight but now we are finding discrete values like Male or Female. So\n",
        "# here we will use classification.\n",
        "# Now we wil talk about KNN classification. Here we will use two features(Heigth & Weigth) to predict Gender."
      ]
    },
    {
      "cell_type": "markdown",
      "id": "afc51e89",
      "metadata": {
        "id": "afc51e89"
      },
      "source": [
        "KNN classification is very simple. It will plot our data point on the graph and select the n number of neighbors(which u define) and related you datapoint to majority."
      ]
    },
    {
      "cell_type": "code",
      "execution_count": null,
      "id": "77a0eb87",
      "metadata": {
        "id": "77a0eb87",
        "outputId": "6e4557b2-c808-495d-b938-cfa86bca24ee"
      },
      "outputs": [
        {
          "data": {
            "text/html": [
              "<div>\n",
              "<style scoped>\n",
              "    .dataframe tbody tr th:only-of-type {\n",
              "        vertical-align: middle;\n",
              "    }\n",
              "\n",
              "    .dataframe tbody tr th {\n",
              "        vertical-align: top;\n",
              "    }\n",
              "\n",
              "    .dataframe thead th {\n",
              "        text-align: right;\n",
              "    }\n",
              "</style>\n",
              "<table border=\"1\" class=\"dataframe\">\n",
              "  <thead>\n",
              "    <tr style=\"text-align: right;\">\n",
              "      <th></th>\n",
              "      <th>Gender</th>\n",
              "      <th>Height</th>\n",
              "      <th>Weight</th>\n",
              "    </tr>\n",
              "  </thead>\n",
              "  <tbody>\n",
              "    <tr>\n",
              "      <th>0</th>\n",
              "      <td>Male</td>\n",
              "      <td>73.847017</td>\n",
              "      <td>241.893563</td>\n",
              "    </tr>\n",
              "    <tr>\n",
              "      <th>1</th>\n",
              "      <td>Male</td>\n",
              "      <td>68.781904</td>\n",
              "      <td>162.310473</td>\n",
              "    </tr>\n",
              "    <tr>\n",
              "      <th>2</th>\n",
              "      <td>Male</td>\n",
              "      <td>74.110105</td>\n",
              "      <td>212.740856</td>\n",
              "    </tr>\n",
              "    <tr>\n",
              "      <th>3</th>\n",
              "      <td>Male</td>\n",
              "      <td>71.730978</td>\n",
              "      <td>220.042470</td>\n",
              "    </tr>\n",
              "    <tr>\n",
              "      <th>4</th>\n",
              "      <td>Male</td>\n",
              "      <td>69.881796</td>\n",
              "      <td>206.349801</td>\n",
              "    </tr>\n",
              "  </tbody>\n",
              "</table>\n",
              "</div>"
            ],
            "text/plain": [
              "  Gender     Height      Weight\n",
              "0   Male  73.847017  241.893563\n",
              "1   Male  68.781904  162.310473\n",
              "2   Male  74.110105  212.740856\n",
              "3   Male  71.730978  220.042470\n",
              "4   Male  69.881796  206.349801"
            ]
          },
          "execution_count": 32,
          "metadata": {},
          "output_type": "execute_result"
        }
      ],
      "source": [
        "df.head()"
      ]
    },
    {
      "cell_type": "code",
      "execution_count": null,
      "id": "677687b8",
      "metadata": {
        "id": "677687b8"
      },
      "outputs": [],
      "source": [
        "X_ml = df.iloc[:, 1:3].values\n",
        "y_ml = df.iloc[:, 0:1].values"
      ]
    },
    {
      "cell_type": "code",
      "execution_count": null,
      "id": "b9932f4d",
      "metadata": {
        "id": "b9932f4d",
        "outputId": "dabb0183-61bf-437b-a4f7-ce59b272305a"
      },
      "outputs": [
        {
          "data": {
            "text/plain": [
              "(10000, 2)"
            ]
          },
          "execution_count": 34,
          "metadata": {},
          "output_type": "execute_result"
        }
      ],
      "source": [
        "X_ml.shape"
      ]
    },
    {
      "cell_type": "code",
      "execution_count": null,
      "id": "b14019d9",
      "metadata": {
        "id": "b14019d9"
      },
      "outputs": [],
      "source": [
        "# We can see our target variable is in string form, ML model only understands numeric values.\n",
        "# To make our model work, we need to encode it to numeric values. We will use LabelEncoder class for it."
      ]
    },
    {
      "cell_type": "code",
      "execution_count": null,
      "id": "197d0265",
      "metadata": {
        "id": "197d0265"
      },
      "outputs": [],
      "source": [
        "from sklearn.preprocessing import LabelEncoder"
      ]
    },
    {
      "cell_type": "code",
      "execution_count": null,
      "id": "71e22098",
      "metadata": {
        "id": "71e22098"
      },
      "outputs": [],
      "source": [
        "encoder = LabelEncoder()"
      ]
    },
    {
      "cell_type": "code",
      "execution_count": null,
      "id": "22b7e09f",
      "metadata": {
        "id": "22b7e09f",
        "outputId": "a690c324-dc92-4973-b8ea-f79e2d76cf3c"
      },
      "outputs": [
        {
          "name": "stderr",
          "output_type": "stream",
          "text": [
            "C:\\Users\\MANGESH\\anaconda3\\lib\\site-packages\\sklearn\\utils\\validation.py:63: DataConversionWarning: A column-vector y was passed when a 1d array was expected. Please change the shape of y to (n_samples, ), for example using ravel().\n",
            "  return f(*args, **kwargs)\n"
          ]
        }
      ],
      "source": [
        "y_ml = encoder.fit_transform(y_ml)"
      ]
    },
    {
      "cell_type": "code",
      "execution_count": null,
      "id": "9b8e17d1",
      "metadata": {
        "id": "9b8e17d1",
        "outputId": "4f5e43a2-2815-4c3a-e6c3-a94d46893704"
      },
      "outputs": [
        {
          "data": {
            "text/plain": [
              "array([1, 1, 1, ..., 0, 0, 0])"
            ]
          },
          "execution_count": 40,
          "metadata": {},
          "output_type": "execute_result"
        }
      ],
      "source": [
        "y_ml # so we can see now our string values are encoded. Male as 1 & Female as 0"
      ]
    },
    {
      "cell_type": "code",
      "execution_count": null,
      "id": "6de60b7a",
      "metadata": {
        "id": "6de60b7a",
        "outputId": "07234e19-d5bf-4e84-9a6c-dfcdc62e7d66"
      },
      "outputs": [
        {
          "data": {
            "text/plain": [
              "(10000,)"
            ]
          },
          "execution_count": 41,
          "metadata": {},
          "output_type": "execute_result"
        }
      ],
      "source": [
        "y_ml.shape"
      ]
    },
    {
      "cell_type": "code",
      "execution_count": null,
      "id": "66937819",
      "metadata": {
        "id": "66937819"
      },
      "outputs": [],
      "source": [
        "# So now we can perform KNN classification. Before that we need to split train test set."
      ]
    },
    {
      "cell_type": "code",
      "execution_count": null,
      "id": "3881d3d4",
      "metadata": {
        "id": "3881d3d4"
      },
      "outputs": [],
      "source": [
        "X_train_ml, X_test_ml, y_train_ml, y_test_ml = train_test_split(X_ml, y_ml, test_size=0.3, random_state=31)"
      ]
    },
    {
      "cell_type": "code",
      "execution_count": null,
      "id": "26e6ab30",
      "metadata": {
        "id": "26e6ab30"
      },
      "outputs": [],
      "source": [
        "from sklearn.neighbors import KNeighborsClassifier\n",
        "knn = KNeighborsClassifier(n_neighbors=3) #n_neighbors is the number of neighbours"
      ]
    },
    {
      "cell_type": "code",
      "execution_count": null,
      "id": "efd5811f",
      "metadata": {
        "id": "efd5811f",
        "outputId": "b3c43c86-aaa5-4cf1-b5c6-88ac50e741fe"
      },
      "outputs": [
        {
          "data": {
            "text/plain": [
              "KNeighborsClassifier(n_neighbors=3)"
            ]
          },
          "execution_count": 45,
          "metadata": {},
          "output_type": "execute_result"
        }
      ],
      "source": [
        "knn.fit(X_train_ml, y_train_ml)"
      ]
    },
    {
      "cell_type": "code",
      "execution_count": null,
      "id": "6fa2cd1b",
      "metadata": {
        "id": "6fa2cd1b"
      },
      "outputs": [],
      "source": [
        "y_predict_ml = knn.predict(X_test_ml)"
      ]
    },
    {
      "cell_type": "code",
      "execution_count": null,
      "id": "f4becd3b",
      "metadata": {
        "id": "f4becd3b",
        "outputId": "1b6d2cc5-12f0-4a93-b5ed-03e3935d82d8"
      },
      "outputs": [
        {
          "data": {
            "text/plain": [
              "array([0, 1, 0, ..., 1, 0, 0])"
            ]
          },
          "execution_count": 47,
          "metadata": {},
          "output_type": "execute_result"
        }
      ],
      "source": [
        "y_predict_ml # So you can see now our model is classifying the gender\n"
      ]
    },
    {
      "cell_type": "code",
      "execution_count": null,
      "id": "1fb64f1d",
      "metadata": {
        "id": "1fb64f1d"
      },
      "outputs": [],
      "source": [
        "# Lets plot confusion matrix"
      ]
    },
    {
      "cell_type": "code",
      "execution_count": null,
      "id": "bc293113",
      "metadata": {
        "id": "bc293113"
      },
      "outputs": [],
      "source": [
        "from sklearn.metrics import confusion_matrix"
      ]
    },
    {
      "cell_type": "code",
      "execution_count": null,
      "id": "b14b0928",
      "metadata": {
        "id": "b14b0928",
        "outputId": "da6388d3-f8d1-4602-ed99-8c23f74f9e8d"
      },
      "outputs": [
        {
          "data": {
            "text/plain": [
              "array([[1315,  157],\n",
              "       [ 138, 1390]], dtype=int64)"
            ]
          },
          "execution_count": 50,
          "metadata": {},
          "output_type": "execute_result"
        }
      ],
      "source": [
        "confusion_matrix(y_test_ml, y_predict_ml)"
      ]
    },
    {
      "cell_type": "code",
      "execution_count": null,
      "id": "06214081",
      "metadata": {
        "id": "06214081"
      },
      "outputs": [],
      "source": [
        "# So our confusion matrix shows we predicted 1315+1390=2705 values correct and 138+157=295 incorrect. \n",
        "# Not bad but can we do it better?"
      ]
    },
    {
      "cell_type": "markdown",
      "id": "91542623",
      "metadata": {
        "id": "91542623"
      },
      "source": [
        "# Lets change the n_neighbors values in KNN classifier and see"
      ]
    },
    {
      "cell_type": "code",
      "execution_count": null,
      "id": "3a37fa00",
      "metadata": {
        "id": "3a37fa00",
        "outputId": "be23d88f-b964-4eb8-8e33-1bf3d4bea160"
      },
      "outputs": [
        {
          "data": {
            "text/plain": [
              "array([[1330,  142],\n",
              "       [ 135, 1393]], dtype=int64)"
            ]
          },
          "execution_count": 55,
          "metadata": {},
          "output_type": "execute_result"
        }
      ],
      "source": [
        "knn = KNeighborsClassifier(n_neighbors=5) #n_neighbors is the number of neighbours\n",
        "knn.fit(X_train_ml, y_train_ml)\n",
        "y_predict_ml = knn.predict(X_test_ml)\n",
        "cm = confusion_matrix(y_test_ml, y_predict_ml)\n",
        "cm"
      ]
    },
    {
      "cell_type": "code",
      "execution_count": null,
      "id": "2713c6a4",
      "metadata": {
        "id": "2713c6a4",
        "outputId": "a1994546-17b0-430b-9b74-a74e00d3e0d3"
      },
      "outputs": [
        {
          "name": "stdout",
          "output_type": "stream",
          "text": [
            "accuracy: 0.9076666666666666\n"
          ]
        }
      ],
      "source": [
        "print(\"accuracy:\", knn.score(X_test_ml, y_test_ml))"
      ]
    },
    {
      "cell_type": "code",
      "execution_count": null,
      "id": "82c350a4",
      "metadata": {
        "id": "82c350a4"
      },
      "outputs": [],
      "source": [
        "# accuracy of 90% which is a very good number. But let see can we increase this"
      ]
    },
    {
      "cell_type": "markdown",
      "id": "e420fe09",
      "metadata": {
        "id": "e420fe09"
      },
      "source": [
        "# Improve Model"
      ]
    },
    {
      "cell_type": "code",
      "execution_count": null,
      "id": "c01e4a96",
      "metadata": {
        "id": "c01e4a96"
      },
      "outputs": [],
      "source": [
        "from sklearn.model_selection import GridSearchCV\n",
        "# below is the params dictionary object. Here we can add the parameters which we can experiment with. so now our model will get evaluated with all the possible \n",
        "# combination of below params and let you the best score and param combination.\n",
        "params = {\n",
        "    \"n_neighbors\": [5, 10, 20],\n",
        "    'leaf_size' : [30, 40, 50],\n",
        "    'algorithm': [\"ball_tree\", \"kd_tree\", \"brute\"],\n",
        "    'p': [1, 2]\n",
        "}\n",
        "gs = GridSearchCV(estimator=knn, cv=10, param_grid=params )"
      ]
    },
    {
      "cell_type": "code",
      "execution_count": null,
      "id": "54655740",
      "metadata": {
        "id": "54655740"
      },
      "outputs": [],
      "source": [
        "gsresult = gs.fit(X_train_ml, y_train_ml )"
      ]
    },
    {
      "cell_type": "code",
      "execution_count": null,
      "id": "29e9ea35",
      "metadata": {
        "id": "29e9ea35"
      },
      "outputs": [],
      "source": [
        "# it may take a while as grid search cv will run your mode with all the possible combinations of given params."
      ]
    },
    {
      "cell_type": "code",
      "execution_count": null,
      "id": "e12adf00",
      "metadata": {
        "id": "e12adf00",
        "outputId": "7704397a-b5c0-499f-9ab4-9bf7df205452"
      },
      "outputs": [
        {
          "name": "stdout",
          "output_type": "stream",
          "text": [
            "0.9190000000000002\n",
            "{'algorithm': 'ball_tree', 'leaf_size': 30, 'n_neighbors': 20, 'p': 1}\n"
          ]
        }
      ],
      "source": [
        "print(gsresult.best_score_) # So you can see we increased accuracy with more than 1% for training data.\n",
        "print(gsresult.best_params_) # So this is the best possible combination for our model. Lets try with that."
      ]
    },
    {
      "cell_type": "code",
      "execution_count": null,
      "id": "798a0c27",
      "metadata": {
        "id": "798a0c27",
        "outputId": "97f4c54a-1c42-4c16-a426-8bacb6f850e8"
      },
      "outputs": [
        {
          "data": {
            "text/plain": [
              "KNeighborsClassifier(algorithm='ball_tree', n_neighbors=20, p=1)"
            ]
          },
          "execution_count": 67,
          "metadata": {},
          "output_type": "execute_result"
        }
      ],
      "source": [
        "knn_best_fit = KNeighborsClassifier(algorithm = \"ball_tree\", leaf_size= 30, n_neighbors = 20, p=1)\n",
        "knn_best_fit.fit(X_train_ml, y_train_ml)"
      ]
    },
    {
      "cell_type": "code",
      "execution_count": null,
      "id": "92030d84",
      "metadata": {
        "id": "92030d84",
        "outputId": "6ed26b62-20e7-45bc-908c-4fc59357092b"
      },
      "outputs": [
        {
          "data": {
            "text/plain": [
              "KNeighborsClassifier(algorithm='ball_tree', n_neighbors=20, p=1)"
            ]
          },
          "execution_count": 68,
          "metadata": {},
          "output_type": "execute_result"
        }
      ],
      "source": [
        "KNeighborsClassifier(algorithm='ball_tree', leaf_size=30, metric='minkowski',\n",
        "                     metric_params=None, n_jobs=None, n_neighbors=20, p=1,\n",
        "                     weights='uniform')"
      ]
    },
    {
      "cell_type": "code",
      "execution_count": null,
      "id": "f33f3bcc",
      "metadata": {
        "id": "f33f3bcc"
      },
      "outputs": [],
      "source": [
        "y_predict_best = knn_best_fit.predict(X_test_ml)"
      ]
    },
    {
      "cell_type": "code",
      "execution_count": null,
      "id": "de4744c6",
      "metadata": {
        "id": "de4744c6",
        "outputId": "1906d1f7-f54e-4dfc-93f0-d0d546bb689c"
      },
      "outputs": [
        {
          "data": {
            "text/plain": [
              "array([[1352,  120],\n",
              "       [ 133, 1395]], dtype=int64)"
            ]
          },
          "execution_count": 70,
          "metadata": {},
          "output_type": "execute_result"
        }
      ],
      "source": [
        "cm_best = confusion_matrix(y_test_ml, y_predict_best)\n",
        "cm_best"
      ]
    },
    {
      "cell_type": "code",
      "execution_count": null,
      "id": "9605de04",
      "metadata": {
        "id": "9605de04",
        "outputId": "388b24d8-e0c1-43cb-855c-229c1583aee7"
      },
      "outputs": [
        {
          "name": "stdout",
          "output_type": "stream",
          "text": [
            "accuracy: 0.9706666666666667\n"
          ]
        }
      ],
      "source": [
        "print(\"accuracy:\", knn.score(X_test_ml, y_predict_best))"
      ]
    },
    {
      "cell_type": "code",
      "execution_count": null,
      "id": "490c382e",
      "metadata": {
        "id": "490c382e"
      },
      "outputs": [],
      "source": [
        "# accuracy of our new model is 97% which means 7% more than our old model for unseen data or test data, which is amazing.\n",
        "# So here we will stop with this configuration."
      ]
    }
  ],
  "metadata": {
    "kernelspec": {
      "display_name": "Python 3 (ipykernel)",
      "language": "python",
      "name": "python3"
    },
    "language_info": {
      "codemirror_mode": {
        "name": "ipython",
        "version": 3
      },
      "file_extension": ".py",
      "mimetype": "text/x-python",
      "name": "python",
      "nbconvert_exporter": "python",
      "pygments_lexer": "ipython3",
      "version": "3.9.7"
    },
    "colab": {
      "name": "Project- Hight and Weight .ipynb",
      "provenance": [],
      "collapsed_sections": [],
      "include_colab_link": true
    }
  },
  "nbformat": 4,
  "nbformat_minor": 5
}